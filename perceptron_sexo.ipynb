{
 "cells": [
  {
   "cell_type": "code",
   "execution_count": 2,
   "metadata": {},
   "outputs": [
    {
     "name": "stdout",
     "output_type": "stream",
     "text": [
      "Introduce tu estatura en centimetros.- 170\n",
      "Introduce tu peso en kilogramos.- 79\n",
      "Hombre\n"
     ]
    },
    {
     "data": {
      "text/plain": [
       "<Figure size 640x480 with 1 Axes>"
      ]
     },
     "metadata": {},
     "output_type": "display_data"
    }
   ],
   "source": [
    "import random\n",
    "\n",
    "class Perceptron:\n",
    "    def __init__(self,input_number,step_size=0.1):\n",
    "        self._ins = input_number\n",
    "        self._w = [random.random() for _ in range(input_number)]\n",
    "        self._eta = step_size\n",
    "        \n",
    "    def predict(self,inputs):\n",
    "        weighted_average = sum(w*elm for w,elm in zip(self._w,inputs))\n",
    "        if weighted_average > 0:\n",
    "            return 1\n",
    "        return 0\n",
    "\n",
    "    def train(self,inputs,ex_output):\n",
    "        output = self.predict(inputs)\n",
    "        error = ex_output - output\n",
    "        if error != 0:\n",
    "            self._w = [w+self._eta*error*x for w,x in zip(self._w,inputs)]\n",
    "        return error\n",
    "\n",
    "## Datos de hombres y mujeres\n",
    "input_data = [[170,56,1], # Mujer de 1.70m y 56kg\n",
    "              [172,63,0],# Hombre de 1.72m y 63kg\n",
    "              [160,50,1], # Mujer de 1.60m y 50kg\n",
    "              [170,63,0], # Hombre de 1.70m y 63kg\n",
    "              [174,66,0],# Hombre de 1.74m y 66kg\n",
    "              [158,55,1],# Mujer de 1.58m y 55kg\n",
    "              [183,80,0],# Hombre de 1.83m y 80kg\n",
    "              [182,70,0],# Hombre de 1.82m y 70kg\n",
    "              [165,54,1]]# Mujer de 1.65m y 54kg\n",
    "\n",
    "## Creamos el perceptron\n",
    "pr = Perceptron(3,0.1) # Perceptron con 3 entradas\n",
    "weights = [] # Lista con los pesos\n",
    "errors = []  # Lista con los errores\n",
    "\n",
    "## Fase de entrenamiento\n",
    "for _ in range(100):\n",
    "    # Vamos a entrenarlo varias veces sobre los mismos datos\n",
    "    # para que los 'pesos' converjan\n",
    "    for person in input_data:\n",
    "        output = person[-1]\n",
    "        inp = [1] + person[0:-1] # Agregamos un uno por default\n",
    "        weights.append(pr._w)\n",
    "        err = pr.train(inp,output)\n",
    "        errors.append(err)\n",
    "\n",
    "h = float(input(\"Introduce tu estatura en centimetros.- \"))\n",
    "w = float(input(\"Introduce tu peso en kilogramos.- \"))\n",
    "\n",
    "if pr.predict([1,h,w]) == 1: print (\"Mujer\")\n",
    "else: print (\"Hombre\")\n",
    "\n",
    "#print \"\"\"\n",
    "#Nota: El resultado puede estar incorrecto. \n",
    "#Esto puede ser debido a sesgo en la muestra, o porque es imposible separar\n",
    "#a hombres y mujeres perfectamente basados unicamente en talla y peso.\"\"\"\n",
    "\n",
    "## Fase de graficacion\n",
    "import imp\n",
    "\n",
    "can_plot = True\n",
    "try:\n",
    "    imp.find_module('matplotlib')\n",
    "except:\n",
    "    can_plot = False\n",
    "\n",
    "if not can_plot:\n",
    "    print (\"No es posible graficar los resultados porque no tienes matplotlib\")\n",
    "    sys.exit(0)\n",
    "    pass\n",
    "\n",
    "import matplotlib.pyplot as plt\n",
    "\n",
    "plt.plot(errors)\n",
    "plt.show()"
   ]
  },
  {
   "cell_type": "code",
   "execution_count": null,
   "metadata": {},
   "outputs": [],
   "source": []
  }
 ],
 "metadata": {
  "kernelspec": {
   "display_name": "Python 3",
   "language": "python",
   "name": "python3"
  },
  "language_info": {
   "codemirror_mode": {
    "name": "ipython",
    "version": 3
   },
   "file_extension": ".py",
   "mimetype": "text/x-python",
   "name": "python",
   "nbconvert_exporter": "python",
   "pygments_lexer": "ipython3",
   "version": "3.7.3"
  }
 },
 "nbformat": 4,
 "nbformat_minor": 2
}
